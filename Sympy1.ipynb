{
  "nbformat": 4,
  "nbformat_minor": 0,
  "metadata": {
    "colab": {
      "provenance": [],
      "authorship_tag": "ABX9TyNQTq63TadgYzRWJWaDLj06",
      "include_colab_link": true
    },
    "kernelspec": {
      "name": "python3",
      "display_name": "Python 3"
    },
    "language_info": {
      "name": "python"
    }
  },
  "cells": [
    {
      "cell_type": "markdown",
      "metadata": {
        "id": "view-in-github",
        "colab_type": "text"
      },
      "source": [
        "<a href=\"https://colab.research.google.com/github/YadhiraVT/Python_matematicas/blob/main/Sympy1.ipynb\" target=\"_parent\"><img src=\"https://colab.research.google.com/assets/colab-badge.svg\" alt=\"Open In Colab\"/></a>"
      ]
    },
    {
      "cell_type": "markdown",
      "source": [
        "\n",
        "# Ecuación de recta tangente\n",
        "\n",
        "Dada una expresión algebraica y un punto, define una función que regrese la ecuación de la recta tangente en el punto. (La ecuación se puede representar con Eq).\n"
      ],
      "metadata": {
        "id": "WZiatuBOdvUv"
      }
    },
    {
      "cell_type": "code",
      "execution_count": 59,
      "metadata": {
        "colab": {
          "base_uri": "https://localhost:8080/",
          "height": 38
        },
        "id": "muJZkRpgdnsE",
        "outputId": "399f3d90-5a7b-46bb-eb56-26961a7d1fd0"
      },
      "outputs": [
        {
          "output_type": "execute_result",
          "data": {
            "text/plain": [
              "y - 1 = 3*x - 3"
            ],
            "text/latex": "$\\displaystyle y - 1 = 3 x - 3$"
          },
          "metadata": {},
          "execution_count": 59
        }
      ],
      "source": [
        "from sympy import Eq, diff, symbols,init_printing\n",
        "init_printing(use_latex=True, use_unicode=False)\n",
        "x, y = symbols('x y')\n",
        "def recta_t(expresion,punto):\n",
        "    derivada=diff(expresion,x)\n",
        "    y0=expresion.subs({x:punto})\n",
        "    m=derivada.subs({x:punto})\n",
        "    tangente=Eq(y-y0,m*(x-punto))\n",
        "    return tangente\n",
        "recta_t(x**3,1)\n",
        "\n",
        "\n"
      ]
    },
    {
      "cell_type": "markdown",
      "source": [
        "\n",
        "# Matrices enteras con valores propios enteros\n",
        "\n",
        "Define una función que dada una lista, determine si todos sus valores son números enteros. (Sugerencia: Los números flotantes tienen un método is_integer que regresa True o False. Un número (incluyendo enteros de sympy) se puede convertir a flotante con la función float. La función all, que está incluida con Python, es tal que dada una lista, regresa True si todos sus elementos son True.) Usa la función anterior para determinar todas las matrices de la forma\n",
        "con tales que todos sus valores propios son enteros."
      ],
      "metadata": {
        "id": "qcjauB4jpPFO"
      }
    },
    {
      "cell_type": "code",
      "source": [
        "def es_entero(lista):\n",
        "    for i en\n",
        "    return\n"
      ],
      "metadata": {
        "colab": {
          "base_uri": "https://localhost:8080/",
          "height": 142
        },
        "id": "KfmOsXN_pgwk",
        "outputId": "2d3e75b9-bb6c-413c-d50f-fcb18a03581f"
      },
      "execution_count": 68,
      "outputs": [
        {
          "output_type": "error",
          "ename": "SyntaxError",
          "evalue": "ignored",
          "traceback": [
            "\u001b[0;36m  File \u001b[0;32m\"<ipython-input-68-e51fec67dd6d>\"\u001b[0;36m, line \u001b[0;32m2\u001b[0m\n\u001b[0;31m    \u001b[0m\n\u001b[0m    ^\u001b[0m\n\u001b[0;31mSyntaxError\u001b[0m\u001b[0;31m:\u001b[0m incomplete input\n"
          ]
        }
      ]
    }
  ]
}