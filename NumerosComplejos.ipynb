{
  "nbformat": 4,
  "nbformat_minor": 0,
  "metadata": {
    "colab": {
      "provenance": [],
      "authorship_tag": "ABX9TyM+02nX5sht4YeQtsj1t8KC",
      "include_colab_link": true
    },
    "kernelspec": {
      "name": "python3",
      "display_name": "Python 3"
    },
    "language_info": {
      "name": "python"
    }
  },
  "cells": [
    {
      "cell_type": "markdown",
      "metadata": {
        "id": "view-in-github",
        "colab_type": "text"
      },
      "source": [
        "<a href=\"https://colab.research.google.com/github/YadhiraVT/Python_matematicas/blob/main/NumerosComplejos.ipynb\" target=\"_parent\"><img src=\"https://colab.research.google.com/assets/colab-badge.svg\" alt=\"Open In Colab\"/></a>"
      ]
    },
    {
      "cell_type": "markdown",
      "source": [
        "Definir la resta (__sub__) y la multiplicación (__mul__) de dos números complejos, usando los operadores - y *."
      ],
      "metadata": {
        "id": "vEq3F7sxE0xE"
      }
    },
    {
      "cell_type": "code",
      "execution_count": 2,
      "metadata": {
        "id": "mxGEhVlQDv8y"
      },
      "outputs": [],
      "source": [
        "from sympy import sqrt\n",
        "\n",
        "class Complejo:\n",
        "    def __init__(self, parte_real, parte_imaginaria):\n",
        "        self.r = parte_real\n",
        "        self.i = parte_imaginaria\n",
        "\n",
        "    def __repr__(self):\n",
        "        return f\"Complejo({self.r}, {self.i})\"\n",
        "\n",
        "    def __add__(self, other):\n",
        "        return Complejo(self.r + other.r, self.i + other.i)\n",
        "\n",
        "    def módulo(self):\n",
        "        return sqrt(self.r**2+self.i**2)\n",
        "\n",
        "    def __sub__(self, other):\n",
        "        return Complejo(self.r - other.r, self.i - other.i)\n",
        "    def __mul__(self, other):\n",
        "        return Complejo(self.r*other.r-self.i*other.i,self.r*other.i+self.i*other.r)\n",
        "\n"
      ]
    },
    {
      "cell_type": "code",
      "source": [
        "z = Complejo(2, -1)\n",
        "z.r, z.i, z, z.módulo()\n",
        "z = Complejo(1, -1)\n",
        "w = Complejo(2, -3)\n",
        "z, w, z+w, z-w, z*w"
      ],
      "metadata": {
        "colab": {
          "base_uri": "https://localhost:8080/"
        },
        "id": "Df6edNanFlik",
        "outputId": "427627fa-5328-411e-e1fa-a957bd137fa3"
      },
      "execution_count": 3,
      "outputs": [
        {
          "output_type": "execute_result",
          "data": {
            "text/plain": [
              "(Complejo(1, -1),\n",
              " Complejo(2, -3),\n",
              " Complejo(3, -4),\n",
              " Complejo(-1, 2),\n",
              " Complejo(-1, -5))"
            ]
          },
          "metadata": {},
          "execution_count": 3
        }
      ]
    }
  ]
}