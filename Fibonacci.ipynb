{
  "nbformat": 4,
  "nbformat_minor": 0,
  "metadata": {
    "colab": {
      "provenance": [],
      "authorship_tag": "ABX9TyMPmXO85F3xAT7qKKPRkU3C",
      "include_colab_link": true
    },
    "kernelspec": {
      "name": "python3",
      "display_name": "Python 3"
    },
    "language_info": {
      "name": "python"
    }
  },
  "cells": [
    {
      "cell_type": "markdown",
      "metadata": {
        "id": "view-in-github",
        "colab_type": "text"
      },
      "source": [
        "<a href=\"https://colab.research.google.com/github/YadhiraVT/Python_matematicas/blob/main/Fibonacci.ipynb\" target=\"_parent\"><img src=\"https://colab.research.google.com/assets/colab-badge.svg\" alt=\"Open In Colab\"/></a>"
      ]
    },
    {
      "cell_type": "markdown",
      "source": [
        "#Potenicias perfectas de fiboncacci\n",
        "**¿Qué potencias de Fibonacci menores que $10^{20}$ son cuadrados, cubos, cuartas potencias...?**"
      ],
      "metadata": {
        "id": "5C7mFx8BG9IN"
      }
    },
    {
      "cell_type": "markdown",
      "source": [
        "\n",
        "Sucesión de Fibonacci\n",
        "0, 1, 1, 2, 3, 5, 8, 13, 21, 34, ...\n",
        "donde la formula es:\n",
        "\n",
        "![image.png](data:image/png;base64,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)\n",
        "\n",
        "---\n",
        "\n"
      ],
      "metadata": {
        "id": "zqn8A9wqJsgL"
      }
    },
    {
      "cell_type": "markdown",
      "source": [
        "Por ejemplo:\n",
        "\n",
        "$F_0 = 0$\n",
        "\n",
        "$F_1 = 1$\n",
        "\n",
        "$F 2 = F 1 + F 0 = 1 + 0 = 1$\n",
        "\n",
        "$F_3 = F 2 + F 1 = 1 + 1 = 2$\n",
        "\n",
        "$F_4 = F 3 + F 2 = 2 + 1 = 3$\n",
        "\n",
        "$F 5 = F 4 + F 3 = 3 + 2 = 5$\n",
        "\n",
        "..."
      ],
      "metadata": {
        "id": "E3baJ0gfLi4z"
      }
    },
    {
      "cell_type": "markdown",
      "source": [
        "Codigo:"
      ],
      "metadata": {
        "id": "TF0NHcNSHZrp"
      }
    },
    {
      "cell_type": "code",
      "source": [
        "ef es_pot(n,pot=2):\n",
        "    return int(pow(n,1/pot)) ** pot == n\n",
        "\n",
        "def cuadrados_fibonacci(n,pot):\n",
        "    fibs = []\n",
        "    a, b = 0, 1\n",
        "    while a < n:\n",
        "        if es_pot(a,pot):\n",
        "            fibs.append(a)\n",
        "        a, b = b, a+b\n",
        "    return fibs\n",
        "cuadrados_fibonacci(10**20,4)\n"
      ],
      "metadata": {
        "id": "0g5RoTS9G8Lg"
      },
      "execution_count": null,
      "outputs": []
    },
    {
      "cell_type": "markdown",
      "source": [
        "El artículo: https://annals.math.princeton.edu/2006/163-3/p05\n"
      ],
      "metadata": {
        "id": "jN7ti5ULITfZ"
      }
    }
  ]
}